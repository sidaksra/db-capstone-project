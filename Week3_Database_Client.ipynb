{
 "cells": [
  {
   "cell_type": "code",
   "execution_count": 1,
   "id": "e8ae81a9-e245-42c8-b8f7-f47d9f2cd0fe",
   "metadata": {},
   "outputs": [
    {
     "name": "stdout",
     "output_type": "stream",
     "text": [
      "Collecting mysql-connector-python\n",
      "  Downloading mysql_connector_python-8.2.0-cp38-cp38-win_amd64.whl (14.2 MB)\n",
      "     ---------------------------------------- 0.0/14.2 MB ? eta -:--:--\n",
      "     ---------------------------------------- 0.2/14.2 MB 3.6 MB/s eta 0:00:04\n",
      "     -- ------------------------------------- 1.0/14.2 MB 13.3 MB/s eta 0:00:01\n",
      "     ------- -------------------------------- 2.7/14.2 MB 21.8 MB/s eta 0:00:01\n",
      "     ----------- ---------------------------- 4.2/14.2 MB 22.6 MB/s eta 0:00:01\n",
      "     --------------- ------------------------ 5.7/14.2 MB 25.9 MB/s eta 0:00:01\n",
      "     --------------------- ------------------ 7.8/14.2 MB 29.2 MB/s eta 0:00:01\n",
      "     -------------------------- ------------- 9.3/14.2 MB 29.9 MB/s eta 0:00:01\n",
      "     ----------------------------- --------- 10.7/14.2 MB 34.4 MB/s eta 0:00:01\n",
      "     ---------------------------------- ---- 12.7/14.2 MB 34.6 MB/s eta 0:00:01\n",
      "     --------------------------------------  14.2/14.2 MB 36.3 MB/s eta 0:00:01\n",
      "     --------------------------------------- 14.2/14.2 MB 31.1 MB/s eta 0:00:00\n",
      "Collecting protobuf<=4.21.12,>=4.21.1\n",
      "  Downloading protobuf-4.21.12-cp38-cp38-win_amd64.whl (527 kB)\n",
      "     ---------------------------------------- 0.0/527.0 kB ? eta -:--:--\n",
      "     ------------------------------------- 527.0/527.0 kB 34.5 MB/s eta 0:00:00\n",
      "Installing collected packages: protobuf, mysql-connector-python\n",
      "Successfully installed mysql-connector-python-8.2.0 protobuf-4.21.12\n",
      "[('bookings',), ('customerdetails',), ('menuitems',), ('menus',), ('orderdeliverystatuses',), ('orders',), ('ordersview',), ('ordersview2',), ('ordersview3',), ('staffinformation',)]\n"
     ]
    },
    {
     "name": "stderr",
     "output_type": "stream",
     "text": [
      "\n",
      "[notice] A new release of pip is available: 23.0 -> 23.3.1\n",
      "[notice] To update, run: python.exe -m pip install --upgrade pip\n"
     ]
    }
   ],
   "source": [
    "!pip install mysql-connector-python\n",
    "import mysql.connector as connector\n",
    "connection = connector.connect(user = \"root\", password = \"Sidak@8121\", database=\"littlelemondb\")\n",
    "\n",
    "cursor = connection.cursor()\n",
    "\n",
    "show_tables_query = \"SHOW tables\"\n",
    "cursor.execute(show_tables_query)\n",
    "\n",
    "results = cursor.fetchall()\n",
    "\n",
    "print(results)\n",
    "\n",
    "cursor.close()\n",
    "connection.close()"
   ]
  },
  {
   "cell_type": "code",
   "execution_count": 3,
   "id": "a896bd45-4cad-4e82-a577-a4236a190af8",
   "metadata": {},
   "outputs": [
    {
     "name": "stdout",
     "output_type": "stream",
     "text": [
      "Name: John Doe Contact Details: customer1@email.com Total Cost: 171\n",
      "Name: Jane Doe Contact Details: customer2@email.com Total Cost: 174\n",
      "Name: Alice Contact Details: customer3@email.com Total Cost: 358\n",
      "Name: Bob Contact Details: customer4@email.com Total Cost: 265\n",
      "Name: David Contact Details: customer6@email.com Total Cost: 465\n",
      "Name: Emily Contact Details: customer7@email.com Total Cost: 65\n",
      "Name: Frank Contact Details: customer8@email.com Total Cost: 437\n",
      "Name: Grace Contact Details: customer9@email.com Total Cost: 484\n",
      "Name: Hannah Contact Details: customer10@email.com Total Cost: 111\n"
     ]
    }
   ],
   "source": [
    "import mysql.connector as connector\n",
    "\n",
    "connection = connector.connect(user=\"root\", password=\"Sidak@8121\", database=\"littlelemondb\")\n",
    "\n",
    "cursor = connection.cursor()\n",
    "\n",
    "query = \"\"\"\n",
    "SELECT c.Name, c.Email, o.TotalCost\n",
    "FROM Orders AS o\n",
    "JOIN CustomerDetails AS c ON o.CustomerID = c.CustomerID\n",
    "WHERE o.TotalCost > 60;\n",
    "\"\"\"\n",
    "\n",
    "cursor.execute(query)\n",
    "\n",
    "results = cursor.fetchall()\n",
    "\n",
    "for result in results:\n",
    "    print(\"Name:\", result[0], \"Contact Details:\", result[1], \"Total Cost:\", result[2])\n",
    "\n",
    "cursor.close()\n",
    "connection.close()"
   ]
  },
  {
   "cell_type": "code",
   "execution_count": null,
   "id": "9c0198b5-185d-466c-b2d3-695182a5642a",
   "metadata": {},
   "outputs": [],
   "source": []
  },
  {
   "cell_type": "code",
   "execution_count": null,
   "id": "b793be82-ae1d-4607-a8fe-90d0707235a8",
   "metadata": {},
   "outputs": [],
   "source": []
  }
 ],
 "metadata": {
  "kernelspec": {
   "display_name": "Python 3 (ipykernel)",
   "language": "python",
   "name": "python3"
  },
  "language_info": {
   "codemirror_mode": {
    "name": "ipython",
    "version": 3
   },
   "file_extension": ".py",
   "mimetype": "text/x-python",
   "name": "python",
   "nbconvert_exporter": "python",
   "pygments_lexer": "ipython3",
   "version": "3.8.5"
  }
 },
 "nbformat": 4,
 "nbformat_minor": 5
}
